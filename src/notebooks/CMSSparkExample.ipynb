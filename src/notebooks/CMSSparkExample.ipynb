{
 "cells": [
  {
   "cell_type": "markdown",
   "metadata": {},
   "source": [
    "### Example of using CMSSpark for analysis workflow"
   ]
  },
  {
   "cell_type": "code",
   "execution_count": 1,
   "metadata": {},
   "outputs": [],
   "source": [
    "# IMPORTANT!!!\n",
    "# ------------\n",
    "# Before running this notebook please click on star icon (if it is there) to connect to Spark cluster\n",
    "# it setups spark context variables used in this notebook"
   ]
  },
  {
   "cell_type": "code",
   "execution_count": 4,
   "metadata": {},
   "outputs": [
    {
     "name": "stdout",
     "output_type": "stream",
     "text": [
      "CMSSparkExample.ipynb  env.sh  setup.sh  spark-warehouse  wdir\n",
      "--2018-12-07 14:08:55--  https://my.pcloud.com/publink/show?code=XZwzn97ZIoG4isDNO3b6SrTEUfQ1Y4E6bp9k\n",
      "Resolving my.pcloud.com... 74.120.8.14, 74.120.9.121, 74.120.8.7, ...\n",
      "Connecting to my.pcloud.com|74.120.8.14|:443... connected.\n",
      "HTTP request sent, awaiting response... 200 OK\n",
      "Length: 40806 (40K) [text/html]\n",
      "Saving to: “./avro-mapred.jar”\n",
      "\n",
      "100%[======================================>] 40,806      --.-K/s   in 0.1s    \n",
      "\n",
      "2018-12-07 14:08:55 (330 KB/s) - “./avro-mapred.jar” saved [40806/40806]\n",
      "\n",
      "--2018-12-07 14:08:55--  https://my.pcloud.com/publink/show?code=XZazn97Z9aGq81aVgBLcHi9LBNqryuqs310V\n",
      "Resolving my.pcloud.com... 74.120.8.6, 74.120.9.121, 74.120.8.226, ...\n",
      "Connecting to my.pcloud.com|74.120.8.6|:443... connected.\n",
      "HTTP request sent, awaiting response... 200 OK\n",
      "Length: 40905 (40K) [text/html]\n",
      "Saving to: “./spark-csv-assembly-1.4.0.jar”\n",
      "\n",
      "100%[======================================>] 40,905      --.-K/s   in 0.1s    \n",
      "\n",
      "2018-12-07 14:08:56 (332 KB/s) - “./spark-csv-assembly-1.4.0.jar” saved [40905/40905]\n",
      "\n",
      "--2018-12-07 14:08:56--  https://my.pcloud.com/publink/show?code=XZXRn97Z2I3oh9PJB2khQjedQ5woO0JTXsP7\n",
      "Resolving my.pcloud.com... 74.120.9.90, 74.120.8.226, 74.120.8.14, ...\n",
      "Connecting to my.pcloud.com|74.120.9.90|:443... connected.\n",
      "HTTP request sent, awaiting response... 200 OK\n",
      "Length: 41037 (40K) [text/html]\n",
      "Saving to: “./spark-examples-1.6.0-cdh5.7.6-hadoop2.6.0-cdh5.7.6.jar”\n",
      "\n",
      "100%[======================================>] 41,037      --.-K/s   in 0.1s    \n",
      "\n",
      "2018-12-07 14:08:57 (334 KB/s) - “./spark-examples-1.6.0-cdh5.7.6-hadoop2.6.0-cdh5.7.6.jar” saved [41037/41037]\n",
      "\n",
      "--2018-12-07 14:08:57--  https://github.com/dmwm/CMSSpark/archive/master.zip\n",
      "Resolving github.com... 140.82.118.3, 140.82.118.4\n",
      "Connecting to github.com|140.82.118.3|:443... connected.\n",
      "HTTP request sent, awaiting response... 302 Found\n",
      "Location: https://codeload.github.com/dmwm/CMSSpark/zip/master [following]\n",
      "--2018-12-07 14:08:57--  https://codeload.github.com/dmwm/CMSSpark/zip/master\n",
      "Resolving codeload.github.com... 192.30.253.121, 192.30.253.120\n",
      "Connecting to codeload.github.com|192.30.253.121|:443... connected.\n",
      "HTTP request sent, awaiting response... 200 OK\n",
      "Length: unspecified [application/zip]\n",
      "Saving to: “./master.zip”\n",
      "\n",
      "    [    <=>                                ] 2,486,436   3.58M/s   in 0.7s    \n",
      "\n",
      "2018-12-07 14:08:58 (3.58 MB/s) - “./master.zip” saved [2486436]\n",
      "\n",
      "Archive:  ./master.zip\n",
      "baf61c1a8e8f330da779edf1e9b16a01498f98a1\n",
      "   creating: CMSSpark-master/\n",
      "  inflating: CMSSpark-master/.gitignore  \n",
      "  inflating: CMSSpark-master/LICENSE  \n",
      "  inflating: CMSSpark-master/README.md  \n",
      "  inflating: CMSSpark-master/README_Leftovers.md  \n",
      "   creating: CMSSpark-master/bin/\n",
      "  inflating: CMSSpark-master/bin/cron4aggregation  \n",
      "  inflating: CMSSpark-master/bin/cron4dbs_condor  \n",
      "  inflating: CMSSpark-master/bin/cron4dbs_condor_df  \n",
      "  inflating: CMSSpark-master/bin/cron4dbs_events  \n",
      "  inflating: CMSSpark-master/bin/cron4phedex  \n",
      "  inflating: CMSSpark-master/bin/cron4phedex_df  \n",
      "  inflating: CMSSpark-master/bin/get_dbs_condor.sh  \n",
      "  inflating: CMSSpark-master/bin/get_dbs_events.sh  \n",
      "  inflating: CMSSpark-master/bin/run_aggregation  \n",
      "  inflating: CMSSpark-master/bin/run_dbs_condor.sh  \n",
      "  inflating: CMSSpark-master/bin/run_dbs_events.sh  \n",
      "  inflating: CMSSpark-master/bin/run_phedex.sh  \n",
      "  inflating: CMSSpark-master/bin/run_spark  \n",
      "   creating: CMSSpark-master/doc/\n",
      "  inflating: CMSSpark-master/doc/CMSSpark.pdf  \n",
      "  inflating: CMSSpark-master/doc/CMSSpark.png  \n",
      "   creating: CMSSpark-master/etc/\n",
      "  inflating: CMSSpark-master/etc/conf.json  \n",
      "  inflating: CMSSpark-master/etc/example.csv  \n",
      "  inflating: CMSSpark-master/etc/log4j.properties  \n",
      "  inflating: CMSSpark-master/setup_lxplus.sh  \n",
      "   creating: CMSSpark-master/src/\n",
      "   creating: CMSSpark-master/src/Go/\n",
      "  inflating: CMSSpark-master/src/Go/mergePhedex.go  \n",
      "   creating: CMSSpark-master/src/bash/\n",
      "  inflating: CMSSpark-master/src/bash/dbs_phedex_stats.sh  \n",
      "  inflating: CMSSpark-master/src/bash/download_and_concat.sh  \n",
      "   creating: CMSSpark-master/src/bash/report_campaigns/\n",
      "  inflating: CMSSpark-master/src/bash/report_campaigns/aggregate  \n",
      "  inflating: CMSSpark-master/src/bash/report_campaigns/aggregate_campaign_tier  \n",
      "  inflating: CMSSpark-master/src/bash/report_campaigns/aggregate_campaigns  \n",
      "   creating: CMSSpark-master/src/bash/report_leftovers/\n",
      "  inflating: CMSSpark-master/src/bash/report_leftovers/aggregate_leftovers  \n",
      "   creating: CMSSpark-master/src/bash/report_tiers/\n",
      "  inflating: CMSSpark-master/src/bash/report_tiers/aggregate  \n",
      "  inflating: CMSSpark-master/src/bash/report_tiers/aggregate_dbs  \n",
      "  inflating: CMSSpark-master/src/bash/report_tiers/aggregate_phedex  \n",
      "  inflating: CMSSpark-master/src/bash/reports_init  \n",
      "   creating: CMSSpark-master/src/python/\n",
      "   creating: CMSSpark-master/src/python/CMSSpark/\n",
      "  inflating: CMSSpark-master/src/python/CMSSpark/__init__.py  \n",
      "  inflating: CMSSpark-master/src/python/CMSSpark/aso_stats.py  \n",
      "  inflating: CMSSpark-master/src/python/CMSSpark/cern_monit.py  \n",
      "  inflating: CMSSpark-master/src/python/CMSSpark/conf.py  \n",
      "  inflating: CMSSpark-master/src/python/CMSSpark/data_aggregation.py  \n",
      "  inflating: CMSSpark-master/src/python/CMSSpark/data_aggregation_plots.py  \n",
      "  inflating: CMSSpark-master/src/python/CMSSpark/data_collection.py  \n",
      "  inflating: CMSSpark-master/src/python/CMSSpark/dates.py  \n",
      "  inflating: CMSSpark-master/src/python/CMSSpark/dbs_aaa.py  \n",
      "  inflating: CMSSpark-master/src/python/CMSSpark/dbs_adler.py  \n",
      "  inflating: CMSSpark-master/src/python/CMSSpark/dbs_block_lumis.py  \n",
      "  inflating: CMSSpark-master/src/python/CMSSpark/dbs_cmssw.py  \n",
      "  inflating: CMSSpark-master/src/python/CMSSpark/dbs_condor.py  \n",
      "  inflating: CMSSpark-master/src/python/CMSSpark/dbs_eos.py  \n",
      "  inflating: CMSSpark-master/src/python/CMSSpark/dbs_events.py  \n",
      "  inflating: CMSSpark-master/src/python/CMSSpark/dbs_jm.py  \n",
      "  inflating: CMSSpark-master/src/python/CMSSpark/dbs_lfn.py  \n",
      "  inflating: CMSSpark-master/src/python/CMSSpark/dbs_phedex.py  \n",
      "  inflating: CMSSpark-master/src/python/CMSSpark/fts_aso.py  \n",
      "  inflating: CMSSpark-master/src/python/CMSSpark/getCSV.py  \n",
      "  inflating: CMSSpark-master/src/python/CMSSpark/jm_stats.py  \n",
      "  inflating: CMSSpark-master/src/python/CMSSpark/mergePhedex.py  \n",
      "  inflating: CMSSpark-master/src/python/CMSSpark/phedex.py  \n",
      "  inflating: CMSSpark-master/src/python/CMSSpark/phedex_agg.py  \n",
      "   creating: CMSSpark-master/src/python/CMSSpark/reports/\n",
      "  inflating: CMSSpark-master/src/python/CMSSpark/reports/aggregate_campaign_tier.py  \n",
      "  inflating: CMSSpark-master/src/python/CMSSpark/reports/aggregate_campaigns.py  \n",
      "  inflating: CMSSpark-master/src/python/CMSSpark/reports/aggregate_dbs.py  \n",
      "  inflating: CMSSpark-master/src/python/CMSSpark/reports/aggregate_leftovers.py  \n",
      "  inflating: CMSSpark-master/src/python/CMSSpark/reports/aggregate_phedex.py  \n",
      "  inflating: CMSSpark-master/src/python/CMSSpark/reports/report_builder.py  \n",
      "  inflating: CMSSpark-master/src/python/CMSSpark/reports/visualize_campaigns.py  \n",
      "  inflating: CMSSpark-master/src/python/CMSSpark/reports/visualize_leftovers.py  \n",
      "  inflating: CMSSpark-master/src/python/CMSSpark/reports/visualize_tiers.py  \n",
      "  inflating: CMSSpark-master/src/python/CMSSpark/schemas.py  \n",
      "  inflating: CMSSpark-master/src/python/CMSSpark/spark_utils.py  \n",
      "  inflating: CMSSpark-master/src/python/CMSSpark/stats.py  \n",
      "  inflating: CMSSpark-master/src/python/CMSSpark/utils.py  \n",
      "  inflating: CMSSpark-master/src/python/CMSSpark/wmarchive.py  \n",
      "   creating: CMSSpark-master/static/\n",
      "  inflating: CMSSpark-master/static/LICENSE  \n",
      "  inflating: CMSSpark-master/static/README.md  \n",
      "     failed setting times/attribs for 14 dir entriesCMSSparkExample.ipynb  env.sh  setup.sh  spark-warehouse  wdir\n",
      "avro-mapred.jar  spark-csv-assembly-1.4.0.jar\n",
      "CMSSpark\t spark-examples-1.6.0-cdh5.7.6-hadoop2.6.0-cdh5.7.6.jar\n",
      "master.zip\n"
     ]
    }
   ],
   "source": [
    "# execute this cell which downloads required libraries and put them in place\n",
    "import os\n",
    "with open('env.sh', 'w') as ostream:\n",
    "    ostream.write(\"\"\"#!/bin/bash\n",
    "wdir=$PWD/wdir\n",
    "if [ -d $wdir ]; then\n",
    "    rm -rf $wdir\n",
    "fi\n",
    "mkdir -p $wdir\n",
    "cd $wdir\n",
    "wget https://my.pcloud.com/publink/show?code=XZwzn97ZIoG4isDNO3b6SrTEUfQ1Y4E6bp9k -O ./avro-mapred.jar\n",
    "wget https://my.pcloud.com/publink/show?code=XZazn97Z9aGq81aVgBLcHi9LBNqryuqs310V -O ./spark-csv-assembly-1.4.0.jar\n",
    "wget https://my.pcloud.com/publink/show?code=XZXRn97Z2I3oh9PJB2khQjedQ5woO0JTXsP7 -O ./spark-examples-1.6.0-cdh5.7.6-hadoop2.6.0-cdh5.7.6.jar\n",
    "wget https://github.com/dmwm/CMSSpark/archive/master.zip -O ./master.zip\n",
    "unzip ./master.zip 2> /dev/null\n",
    "mv CMSSpark-master CMSSpark\"\"\")\n",
    "!ls\n",
    "!source ./env.sh\n",
    "!ls\n",
    "!cd wdir; ls"
   ]
  },
  {
   "cell_type": "code",
   "execution_count": 6,
   "metadata": {},
   "outputs": [],
   "source": [
    "# include the CMSSpark python in the sys.path\n",
    "import os,sys\n",
    "sys.path.append(os.path.join(os.path.expanduser(\"~\"), 'SWAN_projects/CMSSpark/wdir/CMSSpark/src/python'))\n",
    "#print(sys.path)"
   ]
  },
  {
   "cell_type": "code",
   "execution_count": 8,
   "metadata": {},
   "outputs": [
    {
     "name": "stdout",
     "output_type": "stream",
     "text": [
      "Use the following data on HDFS\n",
      "Lookup area: hadoop fs -ls hdfs:///project/awg/cms/CMS_DBS3_PROD_GLOBAL/current/DATASETS | awk '{print $8}'\n",
      "Lookup area: hadoop fs -ls hdfs:///project/awg/cms/CMS_DBS3_PROD_GLOBAL/current/BLOCKS | awk '{print $8}'\n",
      "Lookup area: hadoop fs -ls hdfs:///project/awg/cms/CMS_DBS3_PROD_GLOBAL/current/FILES | awk '{print $8}'\n",
      "{'bdf': DataFrame[b_block_id: int, b_block_name: string, b_dataset_id: int, b_open_for_writing: int, b_origin_site_name: string, b_block_size: double, b_file_count: int, b_creation_date: double, b_create_by: string, b_last_modification_date: double, b_last_modified_by: string], 'ddf': DataFrame[d_dataset_id: int, d_dataset: string, d_is_dataset_valid: int, d_primary_ds_id: int, d_processed_ds_id: int, d_data_tier_id: int, d_dataset_access_type_id: int, d_acquisition_era_id: int, d_processing_era_id: int, d_physics_group_id: int, d_xtcrosssection: double, d_prep_id: string, d_creation_date: double, d_create_by: string, d_last_modification_date: double, d_last_modified_by: string], 'fdf': DataFrame[f_file_id: int, f_logical_file_name: string, f_is_file_valid: int, f_dataset_id: int, f_block_id: int, f_file_type_id: int, f_check_sum: string, f_event_count: int, f_file_size: double, f_branch_hash_id: int, f_adler32: string, f_md5: string, f_auto_cross_section: double, f_creation_date: double, f_create_by: string, f_last_modification_date: double, f_last_modified_by: string]}\n",
      "SELECT d_dataset,d_dataset_id,d_creation_date,b_block_id,b_file_count,f_block_id,f_file_id,f_dataset_id,f_event_count,f_file_size FROM ddf JOIN bdf on ddf.d_dataset_id = bdf.b_dataset_id JOIN fdf on bdf.b_block_id=fdf.f_block_id\n"
     ]
    }
   ],
   "source": [
    "# system modules\n",
    "import os\n",
    "import re\n",
    "import sys\n",
    "import time\n",
    "import json\n",
    "\n",
    "from pyspark import SparkContext, StorageLevel\n",
    "from pyspark.sql import SQLContext\n",
    "\n",
    "# CMSSpark modules\n",
    "from CMSSpark.spark_utils import dbs_tables, phedex_tables, print_rows\n",
    "from CMSSpark.spark_utils import spark_context, split_dataset\n",
    "from CMSSpark.utils import info\n",
    "from CMSSpark.conf import OptionParser\n",
    "\n",
    "\n",
    "# define spark context, it's main object which allow to communicate with spark\n",
    "yarn = False # use yarn scheduler or not\n",
    "verbose = 1 # use verbose output or not\n",
    "#ctx = spark_context('cms', yarn, verbose)\n",
    "\n",
    "# use existing spark context (it is created for us on SWAN), it's main object which allow to communicate with spark\n",
    "ctx = sc\n",
    "sqlContext = SQLContext(ctx)\n",
    "\n",
    "# read DBS and Phedex tables\n",
    "tables = {}\n",
    "inst = 'GLOBAL'\n",
    "tables.update(dbs_tables(sqlContext, inst=inst, verbose=verbose, tables=['ddf', 'bdf', 'fdf']))\n",
    "ddf = tables['ddf']\n",
    "bdf = tables['bdf']\n",
    "fdf = tables['fdf']\n",
    "print(tables)\n",
    "\n",
    "# join tables\n",
    "cols = ['d_dataset','d_dataset_id', 'd_creation_date', 'b_block_id','b_file_count','f_block_id','f_file_id','f_dataset_id','f_event_count','f_file_size']\n",
    "\n",
    "# join tables\n",
    "stmt = 'SELECT %s FROM ddf JOIN bdf on ddf.d_dataset_id = bdf.b_dataset_id JOIN fdf on bdf.b_block_id=fdf.f_block_id' % ','.join(cols)\n",
    "print(stmt)\n",
    "joins = sqlContext.sql(stmt)\n",
    "\n",
    "# keep table around\n",
    "joins.persist(StorageLevel.MEMORY_AND_DISK)\n",
    "\n",
    "# construct aggregation\n",
    "fjoin = joins\\\n",
    "            .groupBy(['d_creation_date'])\\\n",
    "            .agg({'b_file_count':'sum', 'f_event_count':'sum', 'f_file_size':'sum'})\\\n",
    "            .withColumnRenamed('sum(b_file_count)', 'nfiles')\\\n",
    "            .withColumnRenamed('sum(f_event_count)', 'nevents')\\\n",
    "            .withColumnRenamed('sum(f_file_size)', 'size')\\\n",
    "            .withColumnRenamed('d_creation_date', 'creation_date')"
   ]
  },
  {
   "cell_type": "code",
   "execution_count": 9,
   "metadata": {},
   "outputs": [
    {
     "name": "stdout",
     "output_type": "stream",
     "text": [
      "+-------------+------------------+------+---------+\n",
      "|creation_date|              size|nfiles|  nevents|\n",
      "+-------------+------------------+------+---------+\n",
      "| 1.19608534E9|     6.11455155E10|  1407|  1635998|\n",
      "|1.246331625E9|  4.30966777601E11| 18900|  2863211|\n",
      "|1.269091189E9|   1.7983180904E10| 18242|   102629|\n",
      "|1.271722695E9|  2.71054273069E11|   859|400001639|\n",
      "|1.274297294E9|     1.673262019E9| 10051|   281354|\n",
      "|1.277132953E9|1.0322970571177E13|577569| 10161297|\n",
      "|1.288977051E9|  7.96258973903E11|   902|  5433269|\n",
      "|1.289509213E9|     7.519344113E9|   698|   374670|\n",
      "|1.298014455E9| 5.158381106551E12|  4868|  1883200|\n",
      "|1.299105033E9|      3.57580188E9|     0|    18000|\n",
      "+-------------+------------------+------+---------+\n",
      "only showing top 10 rows\n",
      "\n"
     ]
    }
   ],
   "source": [
    "# let's inspect our data\n",
    "fjoin.show(10)"
   ]
  },
  {
   "cell_type": "code",
   "execution_count": 10,
   "metadata": {},
   "outputs": [
    {
     "data": {
      "text/html": [
       "<div>\n",
       "<style scoped>\n",
       "    .dataframe tbody tr th:only-of-type {\n",
       "        vertical-align: middle;\n",
       "    }\n",
       "\n",
       "    .dataframe tbody tr th {\n",
       "        vertical-align: top;\n",
       "    }\n",
       "\n",
       "    .dataframe thead th {\n",
       "        text-align: right;\n",
       "    }\n",
       "</style>\n",
       "<table border=\"1\" class=\"dataframe\">\n",
       "  <thead>\n",
       "    <tr style=\"text-align: right;\">\n",
       "      <th></th>\n",
       "      <th>creation_date</th>\n",
       "      <th>size</th>\n",
       "      <th>nfiles</th>\n",
       "      <th>nevents</th>\n",
       "    </tr>\n",
       "  </thead>\n",
       "  <tbody>\n",
       "    <tr>\n",
       "      <th>0</th>\n",
       "      <td>1.196085e+09</td>\n",
       "      <td>6.114552e+10</td>\n",
       "      <td>1407</td>\n",
       "      <td>1635998</td>\n",
       "    </tr>\n",
       "    <tr>\n",
       "      <th>1</th>\n",
       "      <td>1.249055e+09</td>\n",
       "      <td>5.696446e+11</td>\n",
       "      <td>25276</td>\n",
       "      <td>1014413</td>\n",
       "    </tr>\n",
       "    <tr>\n",
       "      <th>2</th>\n",
       "      <td>1.268666e+09</td>\n",
       "      <td>5.780090e+09</td>\n",
       "      <td>0</td>\n",
       "      <td>9000</td>\n",
       "    </tr>\n",
       "    <tr>\n",
       "      <th>3</th>\n",
       "      <td>1.269091e+09</td>\n",
       "      <td>1.798318e+10</td>\n",
       "      <td>18242</td>\n",
       "      <td>102629</td>\n",
       "    </tr>\n",
       "    <tr>\n",
       "      <th>4</th>\n",
       "      <td>1.274297e+09</td>\n",
       "      <td>1.673262e+09</td>\n",
       "      <td>10051</td>\n",
       "      <td>281354</td>\n",
       "    </tr>\n",
       "  </tbody>\n",
       "</table>\n",
       "</div>"
      ],
      "text/plain": [
       "   creation_date          size  nfiles  nevents\n",
       "0   1.196085e+09  6.114552e+10    1407  1635998\n",
       "1   1.249055e+09  5.696446e+11   25276  1014413\n",
       "2   1.268666e+09  5.780090e+09       0     9000\n",
       "3   1.269091e+09  1.798318e+10   18242   102629\n",
       "4   1.274297e+09  1.673262e+09   10051   281354"
      ]
     },
     "execution_count": 10,
     "metadata": {},
     "output_type": "execute_result"
    }
   ],
   "source": [
    "# let's collect our results into pandas dataframe and use it further for analysis\n",
    "pdf = fjoin.toPandas()\n",
    "pdf.head()\n",
    "# here you can add additional analysis"
   ]
  },
  {
   "cell_type": "code",
   "execution_count": 38,
   "metadata": {},
   "outputs": [
    {
     "data": {
      "text/plain": [
       "<matplotlib.axes._subplots.AxesSubplot at 0x7f5dc96a0310>"
      ]
     },
     "execution_count": 38,
     "metadata": {},
     "output_type": "execute_result"
    },
    {
     "data": {
      "image/png": "[encoded data removed]",
      "text/plain": [
       "<Figure size 432x288 with 1 Axes>"
      ]
     },
     "metadata": {},
     "output_type": "display_data"
    }
   ],
   "source": [
    "# adjust creation_date to be treated as dates\n",
    "import pandas as pd\n",
    "from datetime import datetime\n",
    "pdf['creation_date'] = pd.to_datetime(pdf.creation_date)\n",
    "\n",
    "# plot total number of events we got as a time series\n",
    "# for pandas visualization please see: https://pandas.pydata.org/pandas-docs/stable/visualization.html\n",
    "import matplotlib.pyplot as plt\n",
    "pdf.plot(x='creation_date', y='nevents')\n",
    "plt.show()"
   ]
  },
  {
   "cell_type": "code",
   "execution_count": 39,
   "metadata": {},
   "outputs": [
    {
     "data": {
      "text/plain": [
       "<Figure size 432x288 with 0 Axes>"
      ]
     },
     "metadata": {},
     "output_type": "display_data"
    }
   ],
   "source": [
    "# save plot into PDF file\n",
    "plt.savefig('plot.pdf')"
   ]
  }
 ],
 "metadata": {
  "kernelspec": {
   "display_name": "Python 2",
   "language": "python",
   "name": "python2"
  },
  "language_info": {
   "codemirror_mode": {
    "name": "ipython",
    "version": 2
   },
   "file_extension": ".py",
   "mimetype": "text/x-python",
   "name": "python",
   "nbconvert_exporter": "python",
   "pygments_lexer": "ipython2",
   "version": "2.7.15"
  },
  "sparkconnect": {
   "bundled_options": [
    "CMSSpark"
   ],
   "list_of_options": []
  }
 },
 "nbformat": 4,
 "nbformat_minor": 2
}
